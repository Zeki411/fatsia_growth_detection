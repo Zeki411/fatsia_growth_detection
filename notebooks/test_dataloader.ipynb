{
 "cells": [
  {
   "cell_type": "code",
   "execution_count": 1,
   "metadata": {},
   "outputs": [],
   "source": [
    "import sys\n",
    "import os\n",
    "\n",
    "sys.path.insert(0, os.path.abspath(os.path.join(os.getcwd(), '..')))\n",
    "from src.utils.dataloaders import create_dataloader, LoadImagesAndLabels"
   ]
  },
  {
   "cell_type": "code",
   "execution_count": 2,
   "metadata": {},
   "outputs": [],
   "source": [
    "# create_dataloader(\n",
    "#     path=None, imgsz=None, batch_size=None, stride=None,\n",
    "#     rect=True, shuffle=True\n",
    "# )"
   ]
  },
  {
   "cell_type": "code",
   "execution_count": 3,
   "metadata": {},
   "outputs": [
    {
     "name": "stderr",
     "output_type": "stream",
     "text": [
      "Scanning /home/serene/fatsia-growth-project/fatsia_growth_detection/data/fatsiav5/train/labels... 1079 images, 0 backgrounds, 0 corrupt: 100%|██████████| 1079/1079 00:00\n",
      "New cache created: /home/serene/fatsia-growth-project/fatsia_growth_detection/data/fatsiav5/train/labels.cache\n"
     ]
    }
   ],
   "source": [
    "test = LoadImagesAndLabels(\n",
    "    path=\"/home/serene/fatsia-growth-project/fatsia_growth_detection/data/fatsiav5/train\"\n",
    "    # path=\"/home/serene/fatsia-growth-project/fatsia_growth_detection/test_coco\"\n",
    ")"
   ]
  }
 ],
 "metadata": {
  "kernelspec": {
   "display_name": "venv",
   "language": "python",
   "name": "python3"
  },
  "language_info": {
   "codemirror_mode": {
    "name": "ipython",
    "version": 3
   },
   "file_extension": ".py",
   "mimetype": "text/x-python",
   "name": "python",
   "nbconvert_exporter": "python",
   "pygments_lexer": "ipython3",
   "version": "3.10.12"
  }
 },
 "nbformat": 4,
 "nbformat_minor": 2
}
