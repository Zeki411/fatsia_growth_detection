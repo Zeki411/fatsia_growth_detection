{
 "cells": [
  {
   "cell_type": "code",
   "execution_count": 1,
   "metadata": {},
   "outputs": [],
   "source": [
    "import sys\n",
    "import os\n",
    "\n",
    "sys.path.insert(0, os.path.abspath(os.path.join(os.getcwd(), '..')))\n",
    "from src.utils.dataloaders import create_dataloader, LoadImagesAndLabels"
   ]
  },
  {
   "cell_type": "code",
   "execution_count": 2,
   "metadata": {},
   "outputs": [
    {
     "name": "stderr",
     "output_type": "stream",
     "text": [
      "WARNING ⚠️ --rect is incompatible with DataLoader shuffle, setting shuffle=False\n"
     ]
    }
   ],
   "source": [
    "create_dataloader(\n",
    "    path=None, imgsz=None, batch_size=None, stride=None,\n",
    "    rect=True, shuffle=True\n",
    ")"
   ]
  },
  {
   "cell_type": "code",
   "execution_count": 7,
   "metadata": {},
   "outputs": [
    {
     "name": "stderr",
     "output_type": "stream",
     "text": [
      "Scanning /home/serene/fatsia-growth-project/fatsia_growth_detection/data/fatsiav5/test/labels.cache... 1541 images, 0 backgrounds, 0 corrupt: 100%|██████████| 1541/1541 00:00\n"
     ]
    }
   ],
   "source": [
    "test = LoadImagesAndLabels(path=\"/home/serene/fatsia-growth-project/fatsia_growth_detection/data/fatsiav5\")"
   ]
  },
  {
   "cell_type": "code",
   "execution_count": 4,
   "metadata": {},
   "outputs": [
    {
     "data": {
      "text/plain": [
       "1541"
      ]
     },
     "execution_count": 4,
     "metadata": {},
     "output_type": "execute_result"
    }
   ],
   "source": [
    "len(test.im_files)"
   ]
  },
  {
   "cell_type": "code",
   "execution_count": 5,
   "metadata": {},
   "outputs": [
    {
     "data": {
      "text/plain": [
       "(tensor([[[225, 224, 219,  ..., 232, 244, 255],\n",
       "          [218, 217, 214,  ..., 235, 253, 255],\n",
       "          [212, 213, 213,  ..., 215, 225, 226],\n",
       "          ...,\n",
       "          [ 88,  90,  91,  ...,  97,  92,  91],\n",
       "          [ 68,  76,  85,  ...,  94,  96,  96],\n",
       "          [ 76,  80,  84,  ...,  98,  97,  92]],\n",
       " \n",
       "         [[228, 227, 222,  ..., 222, 234, 246],\n",
       "          [218, 217, 214,  ..., 225, 243, 246],\n",
       "          [209, 210, 210,  ..., 208, 218, 219],\n",
       "          ...,\n",
       "          [ 61,  63,  64,  ...,  70,  62,  61],\n",
       "          [ 43,  51,  61,  ...,  65,  63,  63],\n",
       "          [ 51,  55,  60,  ...,  69,  64,  58]],\n",
       " \n",
       "         [[237, 236, 231,  ..., 231, 245, 255],\n",
       "          [228, 227, 224,  ..., 234, 254, 255],\n",
       "          [218, 219, 219,  ..., 215, 226, 227],\n",
       "          ...,\n",
       "          [ 54,  56,  55,  ...,  61,  54,  53],\n",
       "          [ 36,  44,  51,  ...,  57,  54,  54],\n",
       "          [ 44,  48,  50,  ...,  61,  55,  49]]], dtype=torch.uint8),\n",
       " tensor([[0.0000, 0.0000, 0.3195, 0.8047, 0.1203, 0.3438]]),\n",
       " '/home/serene/fatsia-growth-project/fatsia_growth_detection/data/fatsiav5/test/images/240430_16_02_49_-028_bmp_jpg.rf.40d321606aad1fd16e7e72ebee9326c2.jpg',\n",
       " ((640, 640), ((1.0, 1.0), (0.0, 0.0))))"
      ]
     },
     "execution_count": 5,
     "metadata": {},
     "output_type": "execute_result"
    }
   ],
   "source": [
    "test[0]"
   ]
  }
 ],
 "metadata": {
  "kernelspec": {
   "display_name": "venv",
   "language": "python",
   "name": "python3"
  },
  "language_info": {
   "codemirror_mode": {
    "name": "ipython",
    "version": 3
   },
   "file_extension": ".py",
   "mimetype": "text/x-python",
   "name": "python",
   "nbconvert_exporter": "python",
   "pygments_lexer": "ipython3",
   "version": "3.10.12"
  }
 },
 "nbformat": 4,
 "nbformat_minor": 2
}
